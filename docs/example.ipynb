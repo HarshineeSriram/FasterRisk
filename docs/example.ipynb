{
 "cells": [
  {
   "cell_type": "markdown",
   "metadata": {},
   "source": [
    "# Example usage\n",
    "\n",
    "Here, we demonstrate how to use `fasterrisk` to generate sparse risk scoring systems:"
   ]
  },
  {
   "cell_type": "markdown",
   "metadata": {},
   "source": [
    "## Download and Read Sample Data"
   ]
  },
  {
   "cell_type": "markdown",
   "metadata": {},
   "source": [
    "### Imports"
   ]
  },
  {
   "cell_type": "code",
   "execution_count": 1,
   "metadata": {},
   "outputs": [],
   "source": [
    "from fasterrisk.fasterrisk import RiskScoreOptimizer, RiskScoreClassifier\n",
    "from fasterrisk.utils import download_file_from_google_drive\n",
    "import os.path\n",
    "\n",
    "import numpy as np\n",
    "import pandas as pd\n",
    "import time"
   ]
  },
  {
   "cell_type": "markdown",
   "metadata": {},
   "source": [
    "### Download Sample Data"
   ]
  },
  {
   "cell_type": "code",
   "execution_count": 2,
   "metadata": {},
   "outputs": [],
   "source": [
    "train_data_file_path = \"../tests/adult_train_data.csv\"\n",
    "test_data_file_path = \"../tests/adult_test_data.csv\"\n",
    "\n",
    "if not os.path.isfile(train_data_file_path):\n",
    "    download_file_from_google_drive('1nuWn0QVG8tk3AN4I4f3abWLcFEP3WPec', train_data_file_path)\n",
    "if not os.path.isfile(test_data_file_path):\n",
    "    download_file_from_google_drive('1TyBO02LiGfHbatPWU4nzc8AndtIF-7WH', test_data_file_path)\n"
   ]
  },
  {
   "cell_type": "markdown",
   "metadata": {},
   "source": [
    "### Read Sample Data"
   ]
  },
  {
   "cell_type": "code",
   "execution_count": 3,
   "metadata": {},
   "outputs": [],
   "source": [
    "train_df = pd.read_csv(train_data_file_path)\n",
    "train_data = np.asarray(train_df)\n",
    "X_train, y_train = train_data[:, 1:], train_data[:, 0]\n",
    "\n",
    "test_df = pd.read_csv(test_data_file_path)\n",
    "test_data = np.asarray(test_df)\n",
    "X_test, y_test = test_data[:, 1:], test_data[:, 0]"
   ]
  },
  {
   "cell_type": "markdown",
   "metadata": {},
   "source": [
    "## Train Risk Score Models"
   ]
  },
  {
   "cell_type": "markdown",
   "metadata": {},
   "source": [
    "### Create RiskScoreOptimizer and Perform Optimization"
   ]
  },
  {
   "cell_type": "code",
   "execution_count": 4,
   "metadata": {},
   "outputs": [],
   "source": [
    "sparsity = 5\n",
    "parent_size = 10\n",
    "\n",
    "RiskScoreOptimizer_m = RiskScoreOptimizer(X = X_train, y = y_train, k = sparsity, parent_size = parent_size)"
   ]
  },
  {
   "cell_type": "code",
   "execution_count": 5,
   "metadata": {},
   "outputs": [
    {
     "name": "stdout",
     "output_type": "stream",
     "text": [
      "Optimization takes 13.68 seconds.\n"
     ]
    }
   ],
   "source": [
    "start_time = time.time()\n",
    "RiskScoreOptimizer_m.optimize()\n",
    "print(\"Optimization takes {:.2f} seconds.\".format(time.time() - start_time))"
   ]
  },
  {
   "cell_type": "markdown",
   "metadata": {},
   "source": [
    "## Get Risk Score Models"
   ]
  },
  {
   "cell_type": "code",
   "execution_count": 6,
   "metadata": {},
   "outputs": [
    {
     "name": "stdout",
     "output_type": "stream",
     "text": [
      "(26049, 50)\n",
      "We generate 50 risk score models from the sparse diverse pool\n"
     ]
    }
   ],
   "source": [
    "multipliers, sparseDiversePool_beta0_integer, sparseDiversePool_betas_integer = RiskScoreOptimizer_m.get_models()\n",
    "print(\"We generate {} risk score models from the sparse diverse pool\".format(len(multipliers)))"
   ]
  },
  {
   "cell_type": "markdown",
   "metadata": {},
   "source": [
    "### Access the first risk score model"
   ]
  },
  {
   "cell_type": "code",
   "execution_count": 7,
   "metadata": {},
   "outputs": [],
   "source": [
    "model_index = 0 # first model\n",
    "multiplier = multipliers[model_index]\n",
    "intercept = sparseDiversePool_beta0_integer[model_index]\n",
    "coefficients = sparseDiversePool_betas_integer[model_index]"
   ]
  },
  {
   "cell_type": "markdown",
   "metadata": {},
   "source": [
    "### Use the first risk score model to do prediction"
   ]
  },
  {
   "cell_type": "code",
   "execution_count": 8,
   "metadata": {},
   "outputs": [],
   "source": [
    "RiskScoreClassifier_m = RiskScoreClassifier(multiplier, intercept, coefficients)"
   ]
  },
  {
   "cell_type": "code",
   "execution_count": 9,
   "metadata": {},
   "outputs": [
    {
     "name": "stdout",
     "output_type": "stream",
     "text": [
      "y_test are predicted to be [-1 -1 -1 ... -1 -1 -1]\n"
     ]
    }
   ],
   "source": [
    "y_test_pred = RiskScoreClassifier_m.predict(X_test)\n",
    "print(\"y_test are predicted to be {}\".format(y_test_pred))"
   ]
  },
  {
   "cell_type": "code",
   "execution_count": 10,
   "metadata": {},
   "outputs": [
    {
     "name": "stdout",
     "output_type": "stream",
     "text": [
      "The risk probabilities of having y_test to be +1 are [0.13308868 0.34872682 0.34872682 ... 0.04216029 0.34872682 0.04216029]\n"
     ]
    }
   ],
   "source": [
    "y_test_pred_prob = RiskScoreClassifier_m.predict_prob(X_test)\n",
    "print(\"The risk probabilities of having y_test to be +1 are {}\".format(y_test_pred_prob))"
   ]
  },
  {
   "cell_type": "markdown",
   "metadata": {},
   "source": [
    "### Print the first model card"
   ]
  },
  {
   "cell_type": "code",
   "execution_count": 11,
   "metadata": {},
   "outputs": [
    {
     "name": "stdout",
     "output_type": "stream",
     "text": [
      "The Risk Score is:\n",
      "1.            Age_22_to_29     -2 point(s) |   ...\n",
      "2.               HSDiploma     -2 point(s) | + ...\n",
      "3.                    NoHS     -4 point(s) | + ...\n",
      "4.                 Married      4 point(s) | + ...\n",
      "5.         AnyCapitalGains      3 point(s) | + ...\n",
      "                                     SCORE | =    \n",
      "SCORE |  -8.0  |  -6.0  |  -5.0  |  -4.0  |  -3.0  |  -2.0  |  -1.0  |\n",
      "RISK  |   0.1% |   0.4% |   0.7% |   1.2% |   2.3% |   4.2% |   7.6% |\n",
      "SCORE |   0.0  |   1.0  |   2.0  |   3.0  |   4.0  |   5.0  |   7.0  |\n",
      "RISK  |  13.3% |  22.3% |  34.9% |  50.0% |  65.1% |  77.7% |  92.4% |\n"
     ]
    }
   ],
   "source": [
    "X_featureNames = list(train_df.columns[1:])\n",
    "\n",
    "RiskScoreClassifier_m.reset_featureNames(X_featureNames)\n",
    "RiskScoreClassifier_m.print_model_card()"
   ]
  },
  {
   "cell_type": "markdown",
   "metadata": {},
   "source": [
    "### Print Top 10 Model Cards from the Pool and their performance metrics"
   ]
  },
  {
   "cell_type": "code",
   "execution_count": 17,
   "metadata": {},
   "outputs": [
    {
     "name": "stdout",
     "output_type": "stream",
     "text": [
      "The Risk Score is:\n",
      "1.            Age_22_to_29     -2 point(s) |   ...\n",
      "2.               HSDiploma     -2 point(s) | + ...\n",
      "3.                    NoHS     -4 point(s) | + ...\n",
      "4.                 Married      4 point(s) | + ...\n",
      "5.         AnyCapitalGains      3 point(s) | + ...\n",
      "                                     SCORE | =    \n",
      "SCORE |  -8.0  |  -6.0  |  -5.0  |  -4.0  |  -3.0  |  -2.0  |  -1.0  |\n",
      "RISK  |   0.1% |   0.4% |   0.7% |   1.2% |   2.3% |   4.2% |   7.6% |\n",
      "SCORE |   0.0  |   1.0  |   2.0  |   3.0  |   4.0  |   5.0  |   7.0  |\n",
      "RISK  |  13.3% |  22.3% |  34.9% |  50.0% |  65.1% |  77.7% |  92.4% |\n",
      "The logistic loss on the training set is 9798.652346518873\n",
      "The training accuracy and AUC are 82.575% and 0.862\n",
      "The test accuracy and AUC are are 81.787% and 0.856\n",
      "\n",
      "The Risk Score is:\n",
      "1.               HSDiploma     -2 point(s) |   ...\n",
      "2.                    NoHS     -4 point(s) | + ...\n",
      "3.                 Married      4 point(s) | + ...\n",
      "4.    WorkHrsPerWeek_lt_40     -2 point(s) | + ...\n",
      "5.         AnyCapitalGains      3 point(s) | + ...\n",
      "                                     SCORE | =    \n",
      "SCORE |  -8.0  |  -6.0  |  -5.0  |  -4.0  |  -3.0  |  -2.0  |  -1.0  |\n",
      "RISK  |   0.1% |   0.4% |   0.7% |   1.3% |   2.5% |   4.4% |   7.9% |\n",
      "SCORE |   0.0  |   1.0  |   2.0  |   3.0  |   4.0  |   5.0  |   7.0  |\n",
      "RISK  |  13.7% |  22.7% |  35.1% |  50.0% |  64.9% |  77.3% |  92.1% |\n",
      "The logistic loss on the training set is 9859.61575793142\n",
      "The training accuracy and AUC are 82.333% and 0.860\n",
      "The test accuracy and AUC are are 81.849% and 0.854\n",
      "\n",
      "The Risk Score is:\n",
      "1.               HSDiploma     -3 point(s) |   ...\n",
      "2.                    NoHS     -5 point(s) | + ...\n",
      "3.           JobManagerial      2 point(s) | + ...\n",
      "4.                 Married      5 point(s) | + ...\n",
      "5.         AnyCapitalGains      3 point(s) | + ...\n",
      "                                     SCORE | =    \n",
      "SCORE |  -8.0  |  -6.0  |  -5.0  |  -3.0  |  -2.0  |  -1.0  |   0.0  |\n",
      "RISK  |   0.2% |   0.6% |   1.0% |   2.7% |   4.4% |   7.2% |  11.4% |\n",
      "SCORE |   2.0  |   3.0  |   4.0  |   5.0  |   7.0  |   8.0  |  10.0  |\n",
      "RISK  |  26.4% |  37.5% |  50.0% |  62.5% |  82.3% |  88.6% |  95.6% |\n",
      "The logistic loss on the training set is 9883.324461826953\n",
      "The training accuracy and AUC are 82.268% and 0.860\n",
      "The test accuracy and AUC are are 81.511% and 0.854\n",
      "\n",
      "The Risk Score is:\n",
      "1.               HSDiploma     -3 point(s) |   ...\n",
      "2.                    NoHS     -5 point(s) | + ...\n",
      "3.                 Married      5 point(s) | + ...\n",
      "4.   WorkHrsPerWeek_geq_50      1 point(s) | + ...\n",
      "5.         AnyCapitalGains      3 point(s) | + ...\n",
      "                                     SCORE | =    \n",
      "SCORE |  -8.0  |  -7.0  |  -5.0  |  -4.0  |  -3.0  |  -2.0  |  -1.0  |   0.0  |\n",
      "RISK  |   0.2% |   0.3% |   0.9% |   1.5% |   2.5% |   4.1% |   6.8% |  10.9% |\n",
      "SCORE |   1.0  |   2.0  |   3.0  |   4.0  |   5.0  |   6.0  |   8.0  |   9.0  |\n",
      "RISK  |  17.2% |  25.9% |  37.2% |  50.0% |  62.8% |  74.1% |  89.1% |  93.2% |\n",
      "The logistic loss on the training set is 9895.728067750335\n",
      "The training accuracy and AUC are 82.180% and 0.861\n",
      "The test accuracy and AUC are are 81.342% and 0.856\n",
      "\n",
      "The Risk Score is:\n",
      "1.            Age_45_to_59      1 point(s) |   ...\n",
      "2.               HSDiploma     -2 point(s) | + ...\n",
      "3.                    NoHS     -5 point(s) | + ...\n",
      "4.                 Married      4 point(s) | + ...\n",
      "5.         AnyCapitalGains      3 point(s) | + ...\n",
      "                                     SCORE | =    \n",
      "SCORE |  -7.0  |  -6.0  |  -5.0  |  -4.0  |  -3.0  |  -2.0  |  -1.0  |   0.0  |\n",
      "RISK  |   0.2% |   0.4% |   0.7% |   1.2% |   2.0% |   3.5% |   5.9% |   9.9% |\n",
      "SCORE |   1.0  |   2.0  |   3.0  |   4.0  |   5.0  |   6.0  |   7.0  |   8.0  |\n",
      "RISK  |  16.0% |  24.9% |  36.5% |  50.0% |  63.5% |  75.1% |  84.0% |  90.1% |\n",
      "The logistic loss on the training set is 9914.75974232043\n",
      "The training accuracy and AUC are 80.656% and 0.863\n",
      "The test accuracy and AUC are are 80.052% and 0.856\n",
      "\n",
      "The Risk Score is:\n",
      "1.               HSDiploma     -3 point(s) |   ...\n",
      "2.                    NoHS     -5 point(s) | + ...\n",
      "3.                 Married      5 point(s) | + ...\n",
      "4.         AnyCapitalGains      3 point(s) | + ...\n",
      "5.          AnyCapitalLoss      2 point(s) | + ...\n",
      "                                     SCORE | =    \n",
      "SCORE |  -8.0  |  -6.0  |  -5.0  |  -3.0  |  -2.0  |  -1.0  |   0.0  |\n",
      "RISK  |   0.2% |   0.5% |   0.8% |   2.3% |   3.9% |   6.4% |  10.5% |\n",
      "SCORE |   2.0  |   3.0  |   4.0  |   5.0  |   7.0  |   8.0  |  10.0  |\n",
      "RISK  |  25.5% |  36.9% |  50.0% |  63.1% |  83.3% |  89.5% |  96.1% |\n",
      "The logistic loss on the training set is 9923.881690282931\n",
      "The training accuracy and AUC are 82.180% and 0.857\n",
      "The test accuracy and AUC are are 81.342% and 0.852\n",
      "\n",
      "The Risk Score is:\n",
      "1.               HSDiploma     -2 point(s) |   ...\n",
      "2.             ProfVocOrAS     -1 point(s) | + ...\n",
      "3.                    NoHS     -4 point(s) | + ...\n",
      "4.                 Married      3 point(s) | + ...\n",
      "5.         AnyCapitalGains      2 point(s) | + ...\n",
      "                                     SCORE | =    \n",
      "SCORE |  -7.0  |  -6.0  |  -5.0  |  -4.0  |  -3.0  |  -2.0  |  -1.0  |\n",
      "RISK  |   0.1% |   0.1% |   0.3% |   0.8% |   1.7% |   3.7% |   8.0% |\n",
      "SCORE |   0.0  |   1.0  |   2.0  |   3.0  |   4.0  |   5.0  |\n",
      "RISK  |  16.4% |  30.7% |  50.0% |  69.3% |  83.6% |  92.0% |\n",
      "The logistic loss on the training set is 9980.639483585337\n",
      "The training accuracy and AUC are 82.172% and 0.856\n",
      "The test accuracy and AUC are are 81.235% and 0.849\n",
      "\n",
      "The Risk Score is:\n",
      "1.               HSDiploma     -2 point(s) |   ...\n",
      "2.                    NoHS     -4 point(s) | + ...\n",
      "3.                 Married      3 point(s) | + ...\n",
      "4.            NeverMarried     -1 point(s) | + ...\n",
      "5.         AnyCapitalGains      2 point(s) | + ...\n",
      "                                     SCORE | =    \n",
      "SCORE |  -7.0  |  -6.0  |  -5.0  |  -4.0  |  -3.0  |  -2.0  |  -1.0  |\n",
      "RISK  |   0.1% |   0.3% |   0.6% |   1.2% |   2.4% |   4.9% |   9.8% |\n",
      "SCORE |   0.0  |   1.0  |   2.0  |   3.0  |   4.0  |   5.0  |\n",
      "RISK  |  18.6% |  32.3% |  50.0% |  67.7% |  81.4% |  90.2% |\n",
      "The logistic loss on the training set is 9988.041001585896\n",
      "The training accuracy and AUC are 82.180% and 0.855\n",
      "The test accuracy and AUC are are 81.342% and 0.849\n",
      "\n",
      "The Risk Score is:\n",
      "1.               HSDiploma     -2 point(s) |   ...\n",
      "2.                    NoHS     -4 point(s) | + ...\n",
      "3.                 Married      4 point(s) | + ...\n",
      "4.     DivorcedOrSeparated      1 point(s) | + ...\n",
      "5.         AnyCapitalGains      2 point(s) | + ...\n",
      "                                     SCORE | =    \n",
      "SCORE |  -6.0  |  -5.0  |  -4.0  |  -3.0  |  -2.0  |  -1.0  |   0.0  |\n",
      "RISK  |   0.1% |   0.3% |   0.6% |   1.2% |   2.6% |   5.1% |  10.1% |\n",
      "SCORE |   1.0  |   2.0  |   3.0  |   4.0  |   5.0  |   6.0  |   7.0  |\n",
      "RISK  |  18.9% |  32.6% |  50.0% |  67.4% |  81.1% |  89.9% |  94.9% |\n",
      "The logistic loss on the training set is 10000.803138904073\n",
      "The training accuracy and AUC are 82.180% and 0.855\n",
      "The test accuracy and AUC are are 81.342% and 0.848\n",
      "\n",
      "The Risk Score is:\n",
      "1.               HSDiploma     -2 point(s) |   ...\n",
      "2.                    NoHS     -4 point(s) | + ...\n",
      "3.              JobService     -1 point(s) | + ...\n",
      "4.                 Married      4 point(s) | + ...\n",
      "5.         AnyCapitalGains      3 point(s) | + ...\n",
      "                                     SCORE | =    \n",
      "SCORE |  -7.0  |  -6.0  |  -5.0  |  -4.0  |  -3.0  |  -2.0  |  -1.0  |   0.0  |\n",
      "RISK  |   0.2% |   0.4% |   0.7% |   1.3% |   2.4% |   4.3% |   7.7% |  13.4% |\n",
      "SCORE |   1.0  |   2.0  |   3.0  |   4.0  |   5.0  |   6.0  |   7.0  |\n",
      "RISK  |  22.4% |  35.0% |  50.0% |  65.0% |  77.6% |  86.6% |  92.3% |\n",
      "The logistic loss on the training set is 10000.838406643863\n",
      "The training accuracy and AUC are 82.176% and 0.858\n",
      "The test accuracy and AUC are are 81.465% and 0.852\n",
      "\n"
     ]
    }
   ],
   "source": [
    "num_models = min(10, len(multipliers))\n",
    "\n",
    "for model_index in range(num_models):\n",
    "    multiplier = multipliers[model_index]\n",
    "    intercept = sparseDiversePool_beta0_integer[model_index]\n",
    "    coefficients = sparseDiversePool_betas_integer[model_index]\n",
    "\n",
    "    RiskScoreClassifier_m = RiskScoreClassifier(multiplier, intercept, coefficients)\n",
    "    RiskScoreClassifier_m.reset_featureNames(X_featureNames)\n",
    "    RiskScoreClassifier_m.print_model_card()\n",
    "\n",
    "    train_loss = RiskScoreClassifier_m.compute_logisticLoss(X_train, y_train)\n",
    "    train_acc, train_auc = RiskScoreClassifier_m.get_acc_and_auc(X_train, y_train)\n",
    "    test_acc, test_auc = RiskScoreClassifier_m.get_acc_and_auc(X_test, y_test)\n",
    "\n",
    "    print(\"The logistic loss on the training set is {}\".format(train_loss))\n",
    "    print(\"The training accuracy and AUC are {:.3f}% and {:.3f}\".format(train_acc*100, train_auc))\n",
    "    print(\"The test accuracy and AUC are are {:.3f}% and {:.3f}\\n\".format(test_acc*100, test_auc))"
   ]
  },
  {
   "cell_type": "code",
   "execution_count": null,
   "metadata": {},
   "outputs": [],
   "source": []
  }
 ],
 "metadata": {
  "kernelspec": {
   "display_name": "Python 3.9.13 ('FasterRisk')",
   "language": "python",
   "name": "python3"
  },
  "language_info": {
   "codemirror_mode": {
    "name": "ipython",
    "version": 3
   },
   "file_extension": ".py",
   "mimetype": "text/x-python",
   "name": "python",
   "nbconvert_exporter": "python",
   "pygments_lexer": "ipython3",
   "version": "3.9.13"
  },
  "vscode": {
   "interpreter": {
    "hash": "11ef0c9e3fdd2bf1ea4e0e1d697c61e1963131545ec968840ca98faf98521b35"
   }
  }
 },
 "nbformat": 4,
 "nbformat_minor": 4
}
