{
 "cells": [
  {
   "cell_type": "markdown",
   "metadata": {},
   "source": [
    "# Example usage\n",
    "\n",
    "Here, we demonstrate how to use `fasterrisk` to generate sparse risk scoring systems:"
   ]
  },
  {
   "cell_type": "markdown",
   "metadata": {},
   "source": [
    "## Imports"
   ]
  },
  {
   "cell_type": "code",
   "execution_count": 1,
   "metadata": {},
   "outputs": [],
   "source": [
    "from fasterrisk.fasterrisk import RiskScoreOptimizer, RiskScoreClassifier\n",
    "import urllib.request\n",
    "import os.path\n",
    "\n",
    "import numpy as np\n",
    "import time"
   ]
  },
  {
   "cell_type": "markdown",
   "metadata": {},
   "source": [
    "## Download Sample Data"
   ]
  },
  {
   "cell_type": "code",
   "execution_count": 2,
   "metadata": {},
   "outputs": [],
   "source": [
    "sample_data_file_path = \"../tests/train_test_data.npz\"\n",
    "\n",
    "if not os.path.isfile(sample_data_file_path):\n",
    "    sample_data_link = \"https://drive.google.com/file/d/1CK78YUUzDqx3dnPQ637hzrCFejU36eTU/view?usp=sharing\"\n",
    "    urllib.request.urlretrieve(sample_data_link, sample_data_file_path)"
   ]
  },
  {
   "cell_type": "markdown",
   "metadata": {},
   "source": [
    "## Read Data"
   ]
  },
  {
   "cell_type": "code",
   "execution_count": 3,
   "metadata": {},
   "outputs": [],
   "source": [
    "train_test_data = np.load(\"../tests/train_test_data.npz\", allow_pickle=True)\n",
    "\n",
    "X_train, y_train, X_test, y_test = train_test_data[\"X_train\"], train_test_data[\"y_train\"], train_test_data[\"X_test\"], train_test_data[\"y_test\"] \n",
    "y_train = y_train.reshape(-1)\n",
    "y_test = y_test.reshape(-1)"
   ]
  },
  {
   "cell_type": "markdown",
   "metadata": {},
   "source": [
    "## Create RiskScoreOptimizer and Perform Optimization"
   ]
  },
  {
   "cell_type": "code",
   "execution_count": 4,
   "metadata": {},
   "outputs": [],
   "source": [
    "sparsity = 5\n",
    "parent_size = 10\n",
    "\n",
    "RiskScoreOptimizer_m = RiskScoreOptimizer(X = X_train, y = y_train, k = sparsity, parent_size = parent_size)"
   ]
  },
  {
   "cell_type": "code",
   "execution_count": 5,
   "metadata": {},
   "outputs": [
    {
     "name": "stdout",
     "output_type": "stream",
     "text": [
      "Optimization takes 15.34 seconds.\n"
     ]
    }
   ],
   "source": [
    "start_time = time.time()\n",
    "RiskScoreOptimizer_m.optimize()\n",
    "print(\"Optimization takes {:.2f} seconds.\".format(time.time() - start_time))"
   ]
  },
  {
   "cell_type": "markdown",
   "metadata": {},
   "source": [
    "## Get Risk Score Models"
   ]
  },
  {
   "cell_type": "code",
   "execution_count": 6,
   "metadata": {},
   "outputs": [
    {
     "name": "stdout",
     "output_type": "stream",
     "text": [
      "We generate 50 risk score models from the sparse diverse pool\n"
     ]
    }
   ],
   "source": [
    "multipliers, sparse_diverse_set_integer = RiskScoreOptimizer_m.get_models()\n",
    "print(\"We generate {} risk score models from the sparse diverse pool\".format(len(multipliers)))"
   ]
  },
  {
   "cell_type": "markdown",
   "metadata": {},
   "source": [
    "### Access the first risk score model"
   ]
  },
  {
   "cell_type": "code",
   "execution_count": 7,
   "metadata": {},
   "outputs": [],
   "source": [
    "model_index = 0 # first model\n",
    "multiplier = multipliers[0]\n",
    "intercept, coefficients = sparse_diverse_set_integer[0, model_index], sparse_diverse_set_integer[1:, model_index]"
   ]
  },
  {
   "cell_type": "markdown",
   "metadata": {},
   "source": [
    "### Use the first risk score model to do prediction"
   ]
  },
  {
   "cell_type": "code",
   "execution_count": 8,
   "metadata": {},
   "outputs": [],
   "source": [
    "RiskScoreClassifier_m = RiskScoreClassifier(multiplier, intercept, coefficients)"
   ]
  },
  {
   "cell_type": "code",
   "execution_count": 9,
   "metadata": {},
   "outputs": [
    {
     "name": "stdout",
     "output_type": "stream",
     "text": [
      "y_test are predicted to be [-1 -1 -1 ... -1 -1 -1]\n"
     ]
    }
   ],
   "source": [
    "y_test_pred = RiskScoreClassifier_m.predict(X_test[:, 1:])\n",
    "print(\"y_test are predicted to be {}\".format(y_test_pred))"
   ]
  },
  {
   "cell_type": "code",
   "execution_count": 10,
   "metadata": {},
   "outputs": [
    {
     "name": "stdout",
     "output_type": "stream",
     "text": [
      "The risk probabilities of having y_test to be +1 are [0.13308868 0.34872682 0.34872682 ... 0.04216029 0.34872682 0.04216029]\n"
     ]
    }
   ],
   "source": [
    "y_test_pred_prob = RiskScoreClassifier_m.predict_prob(X_test[:, 1:])\n",
    "print(\"The risk probabilities of having y_test to be +1 are {}\".format(y_test_pred_prob))"
   ]
  },
  {
   "cell_type": "code",
   "execution_count": null,
   "metadata": {},
   "outputs": [],
   "source": []
  }
 ],
 "metadata": {
  "kernelspec": {
   "display_name": "Python 3.9.13 ('FasterRisk')",
   "language": "python",
   "name": "python3"
  },
  "language_info": {
   "codemirror_mode": {
    "name": "ipython",
    "version": 3
   },
   "file_extension": ".py",
   "mimetype": "text/x-python",
   "name": "python",
   "nbconvert_exporter": "python",
   "pygments_lexer": "ipython3",
   "version": "3.9.13"
  },
  "vscode": {
   "interpreter": {
    "hash": "11ef0c9e3fdd2bf1ea4e0e1d697c61e1963131545ec968840ca98faf98521b35"
   }
  }
 },
 "nbformat": 4,
 "nbformat_minor": 4
}
