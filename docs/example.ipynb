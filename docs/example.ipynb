{
 "cells": [
  {
   "cell_type": "markdown",
   "metadata": {},
   "source": [
    "# Example usage\n",
    "\n",
    "Here, we demonstrate how to use `fasterrisk` to generate sparse risk scoring systems:"
   ]
  },
  {
   "cell_type": "markdown",
   "metadata": {},
   "source": [
    "## Imports"
   ]
  },
  {
   "cell_type": "code",
   "execution_count": 1,
   "metadata": {},
   "outputs": [],
   "source": [
    "from fasterrisk.fasterrisk import RiskScoreOptimizer, RiskScoreClassifier\n",
    "from fasterrisk.utils import download_file_from_google_drive\n",
    "import os.path\n",
    "\n",
    "import numpy as np\n",
    "import pandas as pd\n",
    "import time"
   ]
  },
  {
   "cell_type": "markdown",
   "metadata": {},
   "source": [
    "## Download Sample Data"
   ]
  },
  {
   "cell_type": "code",
   "execution_count": 2,
   "metadata": {},
   "outputs": [],
   "source": [
    "train_data_file_path = \"../tests/adult_train_data.csv\"\n",
    "test_data_file_path = \"../tests/adult_test_data.csv\"\n",
    "\n",
    "if not os.path.isfile(train_data_file_path):\n",
    "    download_file_from_google_drive('1nuWn0QVG8tk3AN4I4f3abWLcFEP3WPec', train_data_file_path)\n",
    "if not os.path.isfile(test_data_file_path):\n",
    "    download_file_from_google_drive('1TyBO02LiGfHbatPWU4nzc8AndtIF-7WH', test_data_file_path)\n"
   ]
  },
  {
   "cell_type": "markdown",
   "metadata": {},
   "source": [
    "## Read Data"
   ]
  },
  {
   "cell_type": "code",
   "execution_count": 3,
   "metadata": {},
   "outputs": [],
   "source": [
    "train_df = pd.read_csv(train_data_file_path)\n",
    "train_data = np.asarray(train_df)\n",
    "X_train, y_train = train_data[:, 1:], train_data[:, 0]\n",
    "\n",
    "test_df = pd.read_csv(test_data_file_path)\n",
    "test_data = np.asarray(test_df)\n",
    "X_test, y_test = test_data[:, 1:], test_data[:, 0]"
   ]
  },
  {
   "cell_type": "markdown",
   "metadata": {},
   "source": [
    "## Create RiskScoreOptimizer and Perform Optimization"
   ]
  },
  {
   "cell_type": "code",
   "execution_count": 4,
   "metadata": {},
   "outputs": [],
   "source": [
    "sparsity = 5\n",
    "parent_size = 10\n",
    "\n",
    "RiskScoreOptimizer_m = RiskScoreOptimizer(X = X_train, y = y_train, k = sparsity, parent_size = parent_size)"
   ]
  },
  {
   "cell_type": "code",
   "execution_count": 5,
   "metadata": {},
   "outputs": [
    {
     "name": "stdout",
     "output_type": "stream",
     "text": [
      "Optimization takes 13.78 seconds.\n"
     ]
    }
   ],
   "source": [
    "start_time = time.time()\n",
    "RiskScoreOptimizer_m.optimize()\n",
    "print(\"Optimization takes {:.2f} seconds.\".format(time.time() - start_time))"
   ]
  },
  {
   "cell_type": "markdown",
   "metadata": {},
   "source": [
    "## Get Risk Score Models"
   ]
  },
  {
   "cell_type": "code",
   "execution_count": 6,
   "metadata": {},
   "outputs": [
    {
     "name": "stdout",
     "output_type": "stream",
     "text": [
      "We generate 50 risk score models from the sparse diverse pool\n"
     ]
    }
   ],
   "source": [
    "multipliers, sparse_diverse_set_integer = RiskScoreOptimizer_m.get_models()\n",
    "print(\"We generate {} risk score models from the sparse diverse pool\".format(len(multipliers)))"
   ]
  },
  {
   "cell_type": "markdown",
   "metadata": {},
   "source": [
    "### Access the first risk score model"
   ]
  },
  {
   "cell_type": "code",
   "execution_count": 7,
   "metadata": {},
   "outputs": [],
   "source": [
    "model_index = 0 # first model\n",
    "multiplier = multipliers[0]\n",
    "intercept, coefficients = sparse_diverse_set_integer[0, model_index], sparse_diverse_set_integer[1:, model_index]"
   ]
  },
  {
   "cell_type": "markdown",
   "metadata": {},
   "source": [
    "### Use the first risk score model to do prediction"
   ]
  },
  {
   "cell_type": "code",
   "execution_count": 8,
   "metadata": {},
   "outputs": [],
   "source": [
    "RiskScoreClassifier_m = RiskScoreClassifier(multiplier, intercept, coefficients)"
   ]
  },
  {
   "cell_type": "code",
   "execution_count": 9,
   "metadata": {},
   "outputs": [
    {
     "name": "stdout",
     "output_type": "stream",
     "text": [
      "y_test are predicted to be [-1 -1 -1 ... -1 -1 -1]\n"
     ]
    }
   ],
   "source": [
    "y_test_pred = RiskScoreClassifier_m.predict(X_test)\n",
    "print(\"y_test are predicted to be {}\".format(y_test_pred))"
   ]
  },
  {
   "cell_type": "code",
   "execution_count": 10,
   "metadata": {},
   "outputs": [
    {
     "name": "stdout",
     "output_type": "stream",
     "text": [
      "The risk probabilities of having y_test to be +1 are [0.13308868 0.34872682 0.34872682 ... 0.04216029 0.34872682 0.04216029]\n"
     ]
    }
   ],
   "source": [
    "y_test_pred_prob = RiskScoreClassifier_m.predict_prob(X_test)\n",
    "print(\"The risk probabilities of having y_test to be +1 are {}\".format(y_test_pred_prob))"
   ]
  },
  {
   "cell_type": "code",
   "execution_count": 11,
   "metadata": {},
   "outputs": [
    {
     "name": "stdout",
     "output_type": "stream",
     "text": [
      "The Risk Score is:\n",
      "1.            Age_22_to_29     -2 point(s) |   ...\n",
      "2.               HSDiploma     -2 point(s) | + ...\n",
      "3.                    NoHS     -4 point(s) | + ...\n",
      "4.                 Married      4 point(s) | + ...\n",
      "5.         AnyCapitalGains      3 point(s) | + ...\n",
      "                                     SCORE | =    \n",
      "SCORE |  -8.0  |  -6.0  |  -5.0  |  -4.0  |  -3.0  |  -2.0  |  -1.0  |\n",
      "RISK  |   0.1% |   0.4% |   0.7% |   1.2% |   2.3% |   4.2% |   7.6% |\n",
      "SCORE |   0.0  |   1.0  |   2.0  |   3.0  |   4.0  |   5.0  |   7.0  |\n",
      "RISK  |  13.3% |  22.3% |  34.9% |  50.0% |  65.1% |  77.7% |  92.4% |\n"
     ]
    }
   ],
   "source": [
    "X_featureNames = list(train_df.columns[1:])\n",
    "\n",
    "RiskScoreClassifier_m.reset_featureNames(X_featureNames)\n",
    "RiskScoreClassifier_m.print_model_card()"
   ]
  },
  {
   "cell_type": "code",
   "execution_count": null,
   "metadata": {},
   "outputs": [],
   "source": []
  }
 ],
 "metadata": {
  "kernelspec": {
   "display_name": "Python 3.9.13 ('FasterRisk')",
   "language": "python",
   "name": "python3"
  },
  "language_info": {
   "codemirror_mode": {
    "name": "ipython",
    "version": 3
   },
   "file_extension": ".py",
   "mimetype": "text/x-python",
   "name": "python",
   "nbconvert_exporter": "python",
   "pygments_lexer": "ipython3",
   "version": "3.9.13"
  },
  "vscode": {
   "interpreter": {
    "hash": "11ef0c9e3fdd2bf1ea4e0e1d697c61e1963131545ec968840ca98faf98521b35"
   }
  }
 },
 "nbformat": 4,
 "nbformat_minor": 4
}
